{
 "cells": [
  {
   "cell_type": "markdown",
   "metadata": {},
   "source": [
    "# Cats versus Dogs"
   ]
  },
  {
   "cell_type": "code",
   "execution_count": 1,
   "metadata": {},
   "outputs": [],
   "source": [
    "import numpy as np # linear algebra\n",
    "import pandas as pd # data processing, CSV file I/O (e.g. pd.read_csv)\n",
    "import scipy.io.wavfile as sci_wav # Open wav files\n",
    "import os  # Manipulate files\n",
    "import matplotlib.pyplot as plt # Plotting"
   ]
  },
  {
   "cell_type": "code",
   "execution_count": 2,
   "metadata": {},
   "outputs": [],
   "source": [
    "# biblioteca que trabalha com áudio\n",
    "#! pip install librosa"
   ]
  },
  {
   "cell_type": "code",
   "execution_count": 3,
   "metadata": {},
   "outputs": [],
   "source": [
    "import librosa\n",
    "%matplotlib inline"
   ]
  },
  {
   "cell_type": "markdown",
   "metadata": {},
   "source": [
    "## Modelo com Extração de Características"
   ]
  },
  {
   "cell_type": "code",
   "execution_count": 13,
   "metadata": {},
   "outputs": [
    {
     "name": "stderr",
     "output_type": "stream",
     "text": [
      "/home/jailson/anaconda3/lib/python3.7/site-packages/librosa/core/pitch.py:146: UserWarning: Trying to estimate tuning from empty frequency set.\n",
      "  warnings.warn('Trying to estimate tuning from empty frequency set.')\n"
     ]
    }
   ],
   "source": [
    "import csv\n",
    "sound_types = 'cat dog'.split()\n",
    "\n",
    "# Extrai caracteristicas e gera csv\n",
    "header = 'filename chroma_stft std_chroma spectral_centroid std_centroid'\n",
    "for i in range(1, 21):\n",
    "    header += f' mfcc{i} std_mfcc{i}'\n",
    "header += ' label'\n",
    "header = header.split()\n",
    "\n",
    "file = open('data.csv', 'w', newline='')\n",
    "with file:\n",
    "    writer = csv.writer(file)\n",
    "    writer.writerow(header)\n",
    "for g in sound_types:\n",
    "    for filename in os.listdir(f'./audio-cats-and-dogs/cats_dogs/{g}'):\n",
    "        songname = f'./audio-cats-and-dogs/cats_dogs/{g}/{filename}'\n",
    "        y, sr = librosa.load(songname, mono=True, duration=2, sr=None)\n",
    "        chroma_stft = librosa.feature.chroma_stft(y=y, sr=sr)\n",
    "        spec_cent = librosa.feature.spectral_centroid(y=y, sr=sr)\n",
    "        #spec_bw = librosa.feature.spectral_bandwidth(y=y, sr=sr)\n",
    "        #rolloff = librosa.feature.spectral_rolloff(y=y, sr=sr)\n",
    "        #zcr = librosa.feature.zero_crossing_rate(y)\n",
    "        mfcc = librosa.feature.mfcc(y=y, sr=sr)\n",
    "        to_append = f'{filename[:-4].replace(\" \", \"\").replace(\"-\",\"\")} {np.mean(chroma_stft)} {np.std(chroma_stft)} {np.mean(spec_cent)} {np.std(spec_cent)}'    \n",
    "        for e in mfcc:\n",
    "            to_append += f' {np.mean(e)} {np.std(e)}'\n",
    "        to_append += f' {g}'\n",
    "        file = open('data.csv', 'a', newline='')\n",
    "        with file:\n",
    "            writer = csv.writer(file)\n",
    "            writer.writerow(to_append.split())"
   ]
  },
  {
   "cell_type": "code",
   "execution_count": 14,
   "metadata": {},
   "outputs": [
    {
     "data": {
      "text/html": [
       "<div>\n",
       "<style scoped>\n",
       "    .dataframe tbody tr th:only-of-type {\n",
       "        vertical-align: middle;\n",
       "    }\n",
       "\n",
       "    .dataframe tbody tr th {\n",
       "        vertical-align: top;\n",
       "    }\n",
       "\n",
       "    .dataframe thead th {\n",
       "        text-align: right;\n",
       "    }\n",
       "</style>\n",
       "<table border=\"1\" class=\"dataframe\">\n",
       "  <thead>\n",
       "    <tr style=\"text-align: right;\">\n",
       "      <th></th>\n",
       "      <th>filename</th>\n",
       "      <th>chroma_stft</th>\n",
       "      <th>std_chroma</th>\n",
       "      <th>spectral_centroid</th>\n",
       "      <th>std_centroid</th>\n",
       "      <th>mfcc1</th>\n",
       "      <th>std_mfcc1</th>\n",
       "      <th>mfcc2</th>\n",
       "      <th>std_mfcc2</th>\n",
       "      <th>mfcc3</th>\n",
       "      <th>...</th>\n",
       "      <th>std_mfcc16</th>\n",
       "      <th>mfcc17</th>\n",
       "      <th>std_mfcc17</th>\n",
       "      <th>mfcc18</th>\n",
       "      <th>std_mfcc18</th>\n",
       "      <th>mfcc19</th>\n",
       "      <th>std_mfcc19</th>\n",
       "      <th>mfcc20</th>\n",
       "      <th>std_mfcc20</th>\n",
       "      <th>label</th>\n",
       "    </tr>\n",
       "  </thead>\n",
       "  <tbody>\n",
       "    <tr>\n",
       "      <th>0</th>\n",
       "      <td>cat_82</td>\n",
       "      <td>0.355994</td>\n",
       "      <td>0.301829</td>\n",
       "      <td>1471.774296</td>\n",
       "      <td>141.946504</td>\n",
       "      <td>-92.005760</td>\n",
       "      <td>17.995726</td>\n",
       "      <td>114.254723</td>\n",
       "      <td>12.456283</td>\n",
       "      <td>-49.434143</td>\n",
       "      <td>...</td>\n",
       "      <td>8.900279</td>\n",
       "      <td>-3.011898</td>\n",
       "      <td>9.673502</td>\n",
       "      <td>4.370627</td>\n",
       "      <td>7.728966</td>\n",
       "      <td>0.415489</td>\n",
       "      <td>6.438667</td>\n",
       "      <td>-3.102325</td>\n",
       "      <td>7.365862</td>\n",
       "      <td>cat</td>\n",
       "    </tr>\n",
       "    <tr>\n",
       "      <th>1</th>\n",
       "      <td>cat_71</td>\n",
       "      <td>0.402802</td>\n",
       "      <td>0.363965</td>\n",
       "      <td>2363.655663</td>\n",
       "      <td>950.269718</td>\n",
       "      <td>-214.196747</td>\n",
       "      <td>99.733192</td>\n",
       "      <td>39.795223</td>\n",
       "      <td>51.403950</td>\n",
       "      <td>-0.209272</td>\n",
       "      <td>...</td>\n",
       "      <td>11.547688</td>\n",
       "      <td>17.532125</td>\n",
       "      <td>20.919514</td>\n",
       "      <td>2.958978</td>\n",
       "      <td>15.568254</td>\n",
       "      <td>-8.528633</td>\n",
       "      <td>22.951956</td>\n",
       "      <td>11.560122</td>\n",
       "      <td>16.130194</td>\n",
       "      <td>cat</td>\n",
       "    </tr>\n",
       "    <tr>\n",
       "      <th>2</th>\n",
       "      <td>cat_127</td>\n",
       "      <td>0.423669</td>\n",
       "      <td>0.322513</td>\n",
       "      <td>2985.732037</td>\n",
       "      <td>569.319293</td>\n",
       "      <td>-346.770447</td>\n",
       "      <td>140.097763</td>\n",
       "      <td>-16.608671</td>\n",
       "      <td>61.170074</td>\n",
       "      <td>-20.000067</td>\n",
       "      <td>...</td>\n",
       "      <td>13.063638</td>\n",
       "      <td>6.280953</td>\n",
       "      <td>10.606990</td>\n",
       "      <td>-2.667626</td>\n",
       "      <td>9.015184</td>\n",
       "      <td>-6.755027</td>\n",
       "      <td>12.007116</td>\n",
       "      <td>-1.486891</td>\n",
       "      <td>20.316124</td>\n",
       "      <td>cat</td>\n",
       "    </tr>\n",
       "    <tr>\n",
       "      <th>3</th>\n",
       "      <td>cat_62</td>\n",
       "      <td>0.492205</td>\n",
       "      <td>0.333800</td>\n",
       "      <td>2106.219313</td>\n",
       "      <td>404.808504</td>\n",
       "      <td>-300.945923</td>\n",
       "      <td>89.039764</td>\n",
       "      <td>64.659584</td>\n",
       "      <td>28.309046</td>\n",
       "      <td>-10.304729</td>\n",
       "      <td>...</td>\n",
       "      <td>14.069996</td>\n",
       "      <td>2.005222</td>\n",
       "      <td>7.277654</td>\n",
       "      <td>-3.586581</td>\n",
       "      <td>11.165674</td>\n",
       "      <td>-3.887171</td>\n",
       "      <td>12.477126</td>\n",
       "      <td>-0.948295</td>\n",
       "      <td>20.020546</td>\n",
       "      <td>cat</td>\n",
       "    </tr>\n",
       "    <tr>\n",
       "      <th>4</th>\n",
       "      <td>cat_33</td>\n",
       "      <td>0.497484</td>\n",
       "      <td>0.268727</td>\n",
       "      <td>1811.734514</td>\n",
       "      <td>426.986944</td>\n",
       "      <td>-171.568726</td>\n",
       "      <td>112.431190</td>\n",
       "      <td>94.461678</td>\n",
       "      <td>35.394558</td>\n",
       "      <td>-37.704765</td>\n",
       "      <td>...</td>\n",
       "      <td>5.943502</td>\n",
       "      <td>1.706733</td>\n",
       "      <td>4.408141</td>\n",
       "      <td>1.559379</td>\n",
       "      <td>6.250378</td>\n",
       "      <td>-1.413296</td>\n",
       "      <td>5.796556</td>\n",
       "      <td>0.258866</td>\n",
       "      <td>7.445204</td>\n",
       "      <td>cat</td>\n",
       "    </tr>\n",
       "  </tbody>\n",
       "</table>\n",
       "<p>5 rows × 46 columns</p>\n",
       "</div>"
      ],
      "text/plain": [
       "  filename  chroma_stft  std_chroma  spectral_centroid  std_centroid  \\\n",
       "0   cat_82     0.355994    0.301829        1471.774296    141.946504   \n",
       "1   cat_71     0.402802    0.363965        2363.655663    950.269718   \n",
       "2  cat_127     0.423669    0.322513        2985.732037    569.319293   \n",
       "3   cat_62     0.492205    0.333800        2106.219313    404.808504   \n",
       "4   cat_33     0.497484    0.268727        1811.734514    426.986944   \n",
       "\n",
       "        mfcc1   std_mfcc1       mfcc2  std_mfcc2      mfcc3  ...  std_mfcc16  \\\n",
       "0  -92.005760   17.995726  114.254723  12.456283 -49.434143  ...    8.900279   \n",
       "1 -214.196747   99.733192   39.795223  51.403950  -0.209272  ...   11.547688   \n",
       "2 -346.770447  140.097763  -16.608671  61.170074 -20.000067  ...   13.063638   \n",
       "3 -300.945923   89.039764   64.659584  28.309046 -10.304729  ...   14.069996   \n",
       "4 -171.568726  112.431190   94.461678  35.394558 -37.704765  ...    5.943502   \n",
       "\n",
       "      mfcc17  std_mfcc17    mfcc18  std_mfcc18    mfcc19  std_mfcc19  \\\n",
       "0  -3.011898    9.673502  4.370627    7.728966  0.415489    6.438667   \n",
       "1  17.532125   20.919514  2.958978   15.568254 -8.528633   22.951956   \n",
       "2   6.280953   10.606990 -2.667626    9.015184 -6.755027   12.007116   \n",
       "3   2.005222    7.277654 -3.586581   11.165674 -3.887171   12.477126   \n",
       "4   1.706733    4.408141  1.559379    6.250378 -1.413296    5.796556   \n",
       "\n",
       "      mfcc20  std_mfcc20  label  \n",
       "0  -3.102325    7.365862    cat  \n",
       "1  11.560122   16.130194    cat  \n",
       "2  -1.486891   20.316124    cat  \n",
       "3  -0.948295   20.020546    cat  \n",
       "4   0.258866    7.445204    cat  \n",
       "\n",
       "[5 rows x 46 columns]"
      ]
     },
     "execution_count": 14,
     "metadata": {},
     "output_type": "execute_result"
    }
   ],
   "source": [
    "df_data = pd.read_csv('data.csv')\n",
    "df_data.head()"
   ]
  },
  {
   "cell_type": "markdown",
   "metadata": {},
   "source": [
    "## Target Distribution"
   ]
  },
  {
   "cell_type": "code",
   "execution_count": 18,
   "metadata": {},
   "outputs": [
    {
     "data": {
      "image/png": "[encoded data removed]",
      "text/plain": [
       "<Figure size 432x288 with 2 Axes>"
      ]
     },
     "metadata": {
      "needs_background": "light"
     },
     "output_type": "display_data"
    }
   ],
   "source": [
    "# Target Distribution\n",
    "\n",
    "#cat_df = df_data[df_data.label == 'cat']\n",
    "#dog_df = df_data[df_data.label == 'dog']\n",
    "\n",
    "#num_cat = len(cat_df)\n",
    "#num_dog = len(dog_df)\n",
    "\n",
    "\n",
    "#nums = (num_cats, num_dogs)\n",
    "\n",
    "cat_path = './audio-cats-and-dogs/cats_dogs/cat/cat_20.wav'\n",
    "dog_path = './audio-cats-and-dogs/cats_dogs/dog/dog_barking_103.wav'\n",
    "inspect_cat = np.array(librosa.load(cat_path)[0])\n",
    "inspect_dog = np.array(librosa.load(dog_path)[0])\n",
    "fig, (ax_cat_5, ax_dog_5) = plt.subplots(2, 1) # subplot for section 5\n",
    "ax_cat_5.plot(inspect_cat)\n",
    "ax_cat_5.set_title(cat_path)\n",
    "ax_cat_5.set_xlabel(\"Samples\")\n",
    "ax_dog_5.plot(inspect_dog)\n",
    "ax_dog_5.set_title(dog_path)\n",
    "ax_dog_5.set_xlabel(\"Samples\")\n",
    "plt.subplots_adjust(hspace = 0.75)\n",
    "plt.show()"
   ]
  },
  {
   "cell_type": "markdown",
   "metadata": {},
   "source": [
    "## Classificador "
   ]
  },
  {
   "cell_type": "code",
   "execution_count": 17,
   "metadata": {},
   "outputs": [],
   "source": [
    "data = df_data.drop(['filename'], axis=1)"
   ]
  },
  {
   "cell_type": "code",
   "execution_count": 20,
   "metadata": {},
   "outputs": [
    {
     "data": {
      "text/html": [
       "<div>\n",
       "<style scoped>\n",
       "    .dataframe tbody tr th:only-of-type {\n",
       "        vertical-align: middle;\n",
       "    }\n",
       "\n",
       "    .dataframe tbody tr th {\n",
       "        vertical-align: top;\n",
       "    }\n",
       "\n",
       "    .dataframe thead th {\n",
       "        text-align: right;\n",
       "    }\n",
       "</style>\n",
       "<table border=\"1\" class=\"dataframe\">\n",
       "  <thead>\n",
       "    <tr style=\"text-align: right;\">\n",
       "      <th></th>\n",
       "      <th>chroma_stft</th>\n",
       "      <th>std_chroma</th>\n",
       "      <th>spectral_centroid</th>\n",
       "      <th>std_centroid</th>\n",
       "      <th>mfcc1</th>\n",
       "      <th>std_mfcc1</th>\n",
       "      <th>mfcc2</th>\n",
       "      <th>std_mfcc2</th>\n",
       "      <th>mfcc3</th>\n",
       "      <th>std_mfcc3</th>\n",
       "      <th>...</th>\n",
       "      <th>std_mfcc16</th>\n",
       "      <th>mfcc17</th>\n",
       "      <th>std_mfcc17</th>\n",
       "      <th>mfcc18</th>\n",
       "      <th>std_mfcc18</th>\n",
       "      <th>mfcc19</th>\n",
       "      <th>std_mfcc19</th>\n",
       "      <th>mfcc20</th>\n",
       "      <th>std_mfcc20</th>\n",
       "      <th>label</th>\n",
       "    </tr>\n",
       "  </thead>\n",
       "  <tbody>\n",
       "    <tr>\n",
       "      <th>0</th>\n",
       "      <td>0.355994</td>\n",
       "      <td>0.301829</td>\n",
       "      <td>1471.774296</td>\n",
       "      <td>141.946504</td>\n",
       "      <td>-92.005760</td>\n",
       "      <td>17.995726</td>\n",
       "      <td>114.254723</td>\n",
       "      <td>12.456283</td>\n",
       "      <td>-49.434143</td>\n",
       "      <td>12.759011</td>\n",
       "      <td>...</td>\n",
       "      <td>8.900279</td>\n",
       "      <td>-3.011898</td>\n",
       "      <td>9.673502</td>\n",
       "      <td>4.370627</td>\n",
       "      <td>7.728966</td>\n",
       "      <td>0.415489</td>\n",
       "      <td>6.438667</td>\n",
       "      <td>-3.102325</td>\n",
       "      <td>7.365862</td>\n",
       "      <td>cat</td>\n",
       "    </tr>\n",
       "    <tr>\n",
       "      <th>1</th>\n",
       "      <td>0.402802</td>\n",
       "      <td>0.363965</td>\n",
       "      <td>2363.655663</td>\n",
       "      <td>950.269718</td>\n",
       "      <td>-214.196747</td>\n",
       "      <td>99.733192</td>\n",
       "      <td>39.795223</td>\n",
       "      <td>51.403950</td>\n",
       "      <td>-0.209272</td>\n",
       "      <td>18.265841</td>\n",
       "      <td>...</td>\n",
       "      <td>11.547688</td>\n",
       "      <td>17.532125</td>\n",
       "      <td>20.919514</td>\n",
       "      <td>2.958978</td>\n",
       "      <td>15.568254</td>\n",
       "      <td>-8.528633</td>\n",
       "      <td>22.951956</td>\n",
       "      <td>11.560122</td>\n",
       "      <td>16.130194</td>\n",
       "      <td>cat</td>\n",
       "    </tr>\n",
       "    <tr>\n",
       "      <th>2</th>\n",
       "      <td>0.423669</td>\n",
       "      <td>0.322513</td>\n",
       "      <td>2985.732037</td>\n",
       "      <td>569.319293</td>\n",
       "      <td>-346.770447</td>\n",
       "      <td>140.097763</td>\n",
       "      <td>-16.608671</td>\n",
       "      <td>61.170074</td>\n",
       "      <td>-20.000067</td>\n",
       "      <td>26.436598</td>\n",
       "      <td>...</td>\n",
       "      <td>13.063638</td>\n",
       "      <td>6.280953</td>\n",
       "      <td>10.606990</td>\n",
       "      <td>-2.667626</td>\n",
       "      <td>9.015184</td>\n",
       "      <td>-6.755027</td>\n",
       "      <td>12.007116</td>\n",
       "      <td>-1.486891</td>\n",
       "      <td>20.316124</td>\n",
       "      <td>cat</td>\n",
       "    </tr>\n",
       "    <tr>\n",
       "      <th>3</th>\n",
       "      <td>0.492205</td>\n",
       "      <td>0.333800</td>\n",
       "      <td>2106.219313</td>\n",
       "      <td>404.808504</td>\n",
       "      <td>-300.945923</td>\n",
       "      <td>89.039764</td>\n",
       "      <td>64.659584</td>\n",
       "      <td>28.309046</td>\n",
       "      <td>-10.304729</td>\n",
       "      <td>17.828884</td>\n",
       "      <td>...</td>\n",
       "      <td>14.069996</td>\n",
       "      <td>2.005222</td>\n",
       "      <td>7.277654</td>\n",
       "      <td>-3.586581</td>\n",
       "      <td>11.165674</td>\n",
       "      <td>-3.887171</td>\n",
       "      <td>12.477126</td>\n",
       "      <td>-0.948295</td>\n",
       "      <td>20.020546</td>\n",
       "      <td>cat</td>\n",
       "    </tr>\n",
       "    <tr>\n",
       "      <th>4</th>\n",
       "      <td>0.497484</td>\n",
       "      <td>0.268727</td>\n",
       "      <td>1811.734514</td>\n",
       "      <td>426.986944</td>\n",
       "      <td>-171.568726</td>\n",
       "      <td>112.431190</td>\n",
       "      <td>94.461678</td>\n",
       "      <td>35.394558</td>\n",
       "      <td>-37.704765</td>\n",
       "      <td>33.028461</td>\n",
       "      <td>...</td>\n",
       "      <td>5.943502</td>\n",
       "      <td>1.706733</td>\n",
       "      <td>4.408141</td>\n",
       "      <td>1.559379</td>\n",
       "      <td>6.250378</td>\n",
       "      <td>-1.413296</td>\n",
       "      <td>5.796556</td>\n",
       "      <td>0.258866</td>\n",
       "      <td>7.445204</td>\n",
       "      <td>cat</td>\n",
       "    </tr>\n",
       "  </tbody>\n",
       "</table>\n",
       "<p>5 rows × 45 columns</p>\n",
       "</div>"
      ],
      "text/plain": [
       "   chroma_stft  std_chroma  spectral_centroid  std_centroid       mfcc1  \\\n",
       "0     0.355994    0.301829        1471.774296    141.946504  -92.005760   \n",
       "1     0.402802    0.363965        2363.655663    950.269718 -214.196747   \n",
       "2     0.423669    0.322513        2985.732037    569.319293 -346.770447   \n",
       "3     0.492205    0.333800        2106.219313    404.808504 -300.945923   \n",
       "4     0.497484    0.268727        1811.734514    426.986944 -171.568726   \n",
       "\n",
       "    std_mfcc1       mfcc2  std_mfcc2      mfcc3  std_mfcc3  ...  std_mfcc16  \\\n",
       "0   17.995726  114.254723  12.456283 -49.434143  12.759011  ...    8.900279   \n",
       "1   99.733192   39.795223  51.403950  -0.209272  18.265841  ...   11.547688   \n",
       "2  140.097763  -16.608671  61.170074 -20.000067  26.436598  ...   13.063638   \n",
       "3   89.039764   64.659584  28.309046 -10.304729  17.828884  ...   14.069996   \n",
       "4  112.431190   94.461678  35.394558 -37.704765  33.028461  ...    5.943502   \n",
       "\n",
       "      mfcc17  std_mfcc17    mfcc18  std_mfcc18    mfcc19  std_mfcc19  \\\n",
       "0  -3.011898    9.673502  4.370627    7.728966  0.415489    6.438667   \n",
       "1  17.532125   20.919514  2.958978   15.568254 -8.528633   22.951956   \n",
       "2   6.280953   10.606990 -2.667626    9.015184 -6.755027   12.007116   \n",
       "3   2.005222    7.277654 -3.586581   11.165674 -3.887171   12.477126   \n",
       "4   1.706733    4.408141  1.559379    6.250378 -1.413296    5.796556   \n",
       "\n",
       "      mfcc20  std_mfcc20  label  \n",
       "0  -3.102325    7.365862    cat  \n",
       "1  11.560122   16.130194    cat  \n",
       "2  -1.486891   20.316124    cat  \n",
       "3  -0.948295   20.020546    cat  \n",
       "4   0.258866    7.445204    cat  \n",
       "\n",
       "[5 rows x 45 columns]"
      ]
     },
     "execution_count": 20,
     "metadata": {},
     "output_type": "execute_result"
    }
   ],
   "source": [
    "data.head()"
   ]
  },
  {
   "cell_type": "code",
   "execution_count": 22,
   "metadata": {},
   "outputs": [
    {
     "data": {
      "text/plain": [
       "array([0, 0, 0, 0, 0, 0, 0, 0, 0, 0, 0, 0, 0, 0, 0, 0, 0, 0, 0, 0, 0, 0,\n",
       "       0, 0, 0, 0, 0, 0, 0, 0, 0, 0, 0, 0, 0, 0, 0, 0, 0, 0, 0, 0, 0, 0,\n",
       "       0, 0, 0, 0, 0, 0, 0, 0, 0, 0, 0, 0, 0, 0, 0, 0, 0, 0, 0, 0, 0, 0,\n",
       "       0, 0, 0, 0, 0, 0, 0, 0, 0, 0, 0, 0, 0, 0, 0, 0, 0, 0, 0, 0, 0, 0,\n",
       "       0, 0, 0, 0, 0, 0, 0, 0, 0, 0, 0, 0, 0, 0, 0, 0, 0, 0, 0, 0, 0, 0,\n",
       "       0, 0, 0, 0, 0, 0, 0, 0, 0, 0, 0, 0, 0, 0, 0, 0, 0, 0, 0, 0, 0, 0,\n",
       "       0, 0, 0, 0, 0, 0, 0, 0, 0, 0, 0, 0, 0, 0, 0, 0, 0, 0, 0, 0, 0, 0,\n",
       "       0, 0, 0, 0, 0, 0, 0, 0, 0, 0, 1, 1, 1, 1, 1, 1, 1, 1, 1, 1, 1, 1,\n",
       "       1, 1, 1, 1, 1, 1, 1, 1, 1, 1, 1, 1, 1, 1, 1, 1, 1, 1, 1, 1, 1, 1,\n",
       "       1, 1, 1, 1, 1, 1, 1, 1, 1, 1, 1, 1, 1, 1, 1, 1, 1, 1, 1, 1, 1, 1,\n",
       "       1, 1, 1, 1, 1, 1, 1, 1, 1, 1, 1, 1, 1, 1, 1, 1, 1, 1, 1, 1, 1, 1,\n",
       "       1, 1, 1, 1, 1, 1, 1, 1, 1, 1, 1, 1, 1, 1, 1, 1, 1, 1, 1, 1, 1, 1,\n",
       "       1, 1, 1, 1, 1, 1, 1, 1, 1, 1, 1, 1, 1])"
      ]
     },
     "execution_count": 22,
     "metadata": {},
     "output_type": "execute_result"
    }
   ],
   "source": [
    "#Ajusta categorias\n",
    "from sklearn.preprocessing import LabelEncoder, StandardScaler\n",
    "\n",
    "sound_list = data.iloc[:, -1]\n",
    "encoder = LabelEncoder()\n",
    "y = encoder.fit_transform(sound_list)\n",
    "y"
   ]
  },
  {
   "cell_type": "code",
   "execution_count": 23,
   "metadata": {},
   "outputs": [
    {
     "data": {
      "text/plain": [
       "array([[-0.12801697, -0.01628791, -0.12477257, ..., -0.65979193,\n",
       "        -0.55549801, -0.53279608],\n",
       "       [ 0.19889225,  1.93800829,  1.45096913, ...,  2.21559963,\n",
       "         1.34620487,  0.91413309],\n",
       "       [ 0.3446319 ,  0.63427149,  2.55002973, ...,  0.30981944,\n",
       "        -0.34597807,  1.60520057],\n",
       "       ...,\n",
       "       [-0.29051568,  0.14545163, -0.7565227 , ...,  0.91898697,\n",
       "         0.47782565, -0.16829481],\n",
       "       [-0.11766414, -0.10834908, -0.80034465, ..., -0.44918151,\n",
       "        -0.34330724, -0.85239943],\n",
       "       [-1.21430267,  0.51462711, -0.71477639, ...,  1.45539392,\n",
       "        -1.80970232,  1.54653125]])"
      ]
     },
     "execution_count": 23,
     "metadata": {},
     "output_type": "execute_result"
    }
   ],
   "source": [
    "scaler = StandardScaler()\n",
    "X = scaler.fit_transform(np.array(data.iloc[:, :-1], dtype = float))\n",
    "X"
   ]
  },
  {
   "cell_type": "code",
   "execution_count": 24,
   "metadata": {},
   "outputs": [],
   "source": [
    "from sklearn.model_selection import train_test_split\n",
    "\n",
    "X_train, X_test, y_train, y_test = train_test_split(X, y, test_size=0.33, random_state=42)\n"
   ]
  },
  {
   "cell_type": "code",
   "execution_count": 25,
   "metadata": {},
   "outputs": [
    {
     "data": {
      "text/plain": [
       "SGDClassifier(alpha=0.0001, average=False, class_weight=None,\n",
       "              early_stopping=False, epsilon=0.1, eta0=0.0, fit_intercept=True,\n",
       "              l1_ratio=0.15, learning_rate='optimal', loss='hinge',\n",
       "              max_iter=1000, n_iter_no_change=5, n_jobs=None, penalty='l2',\n",
       "              power_t=0.5, random_state=42, shuffle=True, tol=0.001,\n",
       "              validation_fraction=0.1, verbose=0, warm_start=False)"
      ]
     },
     "execution_count": 25,
     "metadata": {},
     "output_type": "execute_result"
    }
   ],
   "source": [
    "## Classificador binário\n",
    "from sklearn.linear_model import SGDClassifier\n",
    "\n",
    "y_train_cat = (y_train == 0)\n",
    "y_test_cat = (y_test == 0)\n",
    "\n",
    "sgd_clf = SGDClassifier(random_state=42)\n",
    "sgd_clf.fit(X_train, y_train_cat)"
   ]
  },
  {
   "cell_type": "markdown",
   "metadata": {},
   "source": [
    "### Treinamento Classificador Binário"
   ]
  },
  {
   "cell_type": "code",
   "execution_count": 27,
   "metadata": {},
   "outputs": [
    {
     "name": "stdout",
     "output_type": "stream",
     "text": [
      "0.8648648648648649\n",
      "0.8378378378378378\n",
      "0.8378378378378378\n",
      "0.8648648648648649\n",
      "0.7567567567567568\n"
     ]
    },
    {
     "name": "stderr",
     "output_type": "stream",
     "text": [
      "/home/jailson/anaconda3/lib/python3.7/site-packages/sklearn/model_selection/_split.py:296: FutureWarning: Setting a random_state has no effect since shuffle is False. This will raise an error in 0.24. You should leave random_state to its default (None), or set shuffle=True.\n",
      "  FutureWarning\n"
     ]
    }
   ],
   "source": [
    "from sklearn.model_selection import StratifiedKFold\n",
    "from sklearn.base import clone\n",
    "\n",
    "skfolds = StratifiedKFold(n_splits=5, random_state=42)\n",
    "\n",
    "for train_index, test_index in skfolds.split(X_train, y_train_cat):\n",
    "    clone_clf = clone(sgd_clf)\n",
    "    X_train_folds = X_train[train_index]\n",
    "    y_train_folds = y_train_cat[train_index]\n",
    "    X_test_fold = X_train[test_index]\n",
    "    y_test_fold = y_train_cat[test_index]\n",
    "    \n",
    "    clone_clf.fit(X_train_folds, y_train_folds)\n",
    "    y_pred = clone_clf.predict(X_test_fold)\n",
    "    n_correct = sum(y_pred == y_test_fold)\n",
    "    print(n_correct/len(y_pred))"
   ]
  },
  {
   "cell_type": "markdown",
   "metadata": {},
   "source": [
    "### Validação"
   ]
  },
  {
   "cell_type": "code",
   "execution_count": 30,
   "metadata": {},
   "outputs": [
    {
     "data": {
      "text/plain": [
       "array([0.86486486, 0.83783784, 0.83783784, 0.86486486, 0.75675676])"
      ]
     },
     "execution_count": 30,
     "metadata": {},
     "output_type": "execute_result"
    }
   ],
   "source": [
    "from sklearn.model_selection import cross_val_score, cross_val_predict\n",
    "from sklearn.metrics import confusion_matrix\n",
    "\n",
    "cross_val_score(sgd_clf, X_train, y_train_cat, cv=5, scoring='accuracy')"
   ]
  },
  {
   "cell_type": "code",
   "execution_count": 31,
   "metadata": {},
   "outputs": [],
   "source": [
    "y_train_pred = cross_val_predict(sgd_clf, X_train, y_train_cat, cv=5)"
   ]
  },
  {
   "cell_type": "code",
   "execution_count": 32,
   "metadata": {},
   "outputs": [
    {
     "data": {
      "text/plain": [
       "array([[59, 15],\n",
       "       [16, 95]])"
      ]
     },
     "execution_count": 32,
     "metadata": {},
     "output_type": "execute_result"
    }
   ],
   "source": [
    "# Matriz de confusão\n",
    "confusion_matrix(y_train_cat, y_train_pred)"
   ]
  },
  {
   "cell_type": "code",
   "execution_count": null,
   "metadata": {},
   "outputs": [],
   "source": []
  },
  {
   "cell_type": "code",
   "execution_count": null,
   "metadata": {},
   "outputs": [],
   "source": []
  },
  {
   "cell_type": "code",
   "execution_count": 4,
   "metadata": {},
   "outputs": [],
   "source": [
    "def preproc_from_dir(dataset_path):\n",
    "    # Sampling rate do audio\n",
    "    sr = 16000\n",
    "    # Duracao a ser lida\n",
    "    #duration = 2\n",
    "    duration=11\n",
    "    # Numero de mel bins\n",
    "    n_mels = 64\n",
    "\n",
    "    audios = []\n",
    "    Y = []\n",
    "\n",
    "    # An ID will be affected to each sub-folders by alphabetical order\n",
    "    imagepaths = list()\n",
    "    label = 0\n",
    "    classes = sorted(os.walk(dataset_path).__next__()[1])\n",
    "    # List each sub-directory (the classes)\n",
    "    for c in classes:\n",
    "        c_dir = os.path.join(dataset_path, c)\n",
    "        walk = os.walk(c_dir).__next__()\n",
    "        # Add each audio to the training set\n",
    "        for sample in walk[2]:\n",
    "            # Only keeps wav\n",
    "            if sample.endswith('.wav'):\n",
    "                c_file = os.path.join(c_dir, sample)\n",
    "                x, sr = librosa.load(c_file, mono=True, duration=duration, sr=sr)\n",
    "                x = librosa.util.normalize(x)\n",
    "                #D = librosa.stft(x, n_fft=int(0.040*sr), hop_length=int(0.020*sr), window='hann')\n",
    "                #S = librosa.feature.melspectrogram(S=np.abs(D),sr=sr, n_mels=n_mels)\n",
    "                #chroma_stft = librosa.feature.chroma_stft(y=x, sr=sr)\n",
    "                #spec_cent = librosa.feature.spectral_centroid(y=x, sr=sr)\n",
    "                #spec_bw = librosa.feature.spectral_bandwidth(y=x, sr=sr)\n",
    "                #rolloff = librosa.feature.spectral_rolloff(y=x, sr=sr)\n",
    "                #zcr = librosa.feature.zero_crossing_rate(x)\n",
    "                mfcc = librosa.feature.mfcc(y=x, sr=sr, n_mfcc=n_mels)\n",
    "                #to_append = f'{np.mean(chroma_stft)} {np.std(chroma_stft)} {np.mean(spec_cent)} {np.std(spec_cent)} {np.mean(spec_bw)} {np.std(spec_bw)} {np.mean(rolloff)} {np.std(rolloff)} {np.mean(zcr)} {np.std(zcr)}'    \n",
    "                to_append = ''\n",
    "                for e in mfcc:\n",
    "                    to_append += f' {np.mean(e)} {np.std(e)}'\n",
    "                S = np.fromstring(to_append, dtype=float, sep=\" \")\n",
    "                #audios.append(S[:,np.newaxis])\n",
    "                audios.append(S)\n",
    "                Y.append(label)\n",
    "        label += 1\n",
    "\n",
    "    X = np.array(audios)\n",
    "    Y = np.array(Y)\n",
    "    num_classes = len(classes)\n",
    "\n",
    "    return X,Y,classes"
   ]
  },
  {
   "cell_type": "code",
   "execution_count": null,
   "metadata": {},
   "outputs": [],
   "source": []
  },
  {
   "cell_type": "code",
   "execution_count": null,
   "metadata": {},
   "outputs": [],
   "source": []
  }
 ],
 "metadata": {
  "kernelspec": {
   "display_name": "Python 3",
   "language": "python",
   "name": "python3"
  },
  "language_info": {
   "codemirror_mode": {
    "name": "ipython",
    "version": 3
   },
   "file_extension": ".py",
   "mimetype": "text/x-python",
   "name": "python",
   "nbconvert_exporter": "python",
   "pygments_lexer": "ipython3",
   "version": "3.7.6"
  }
 },
 "nbformat": 4,
 "nbformat_minor": 4
}
